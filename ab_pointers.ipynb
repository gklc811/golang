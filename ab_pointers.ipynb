{
 "cells": [
  {
   "cell_type": "code",
   "execution_count": 1,
   "metadata": {},
   "outputs": [
    {
     "name": "stdout",
     "output_type": "stream",
     "text": [
      "Before :  30 0xc00077e000\n",
      "Before :  100 0xc00077e008\n"
     ]
    },
    {
     "data": {
      "text/plain": [
       "27 <nil>"
      ]
     },
     "execution_count": 1,
     "metadata": {},
     "output_type": "execute_result"
    }
   ],
   "source": [
    "import (\n",
    "    \"fmt\"\n",
    ")\n",
    "\n",
    "count := 10\n",
    "count1 := 100\n",
    "count = count + 20\n",
    "fmt.Println(\"Before : \", count, &count)\n",
    "fmt.Println(\"Before : \", count1, &count1)"
   ]
  },
  {
   "cell_type": "markdown",
   "metadata": {},
   "source": [
    "By default functions are call by value\n",
    "-----------------------------------------------------"
   ]
  },
  {
   "cell_type": "code",
   "execution_count": 2,
   "metadata": {},
   "outputs": [
    {
     "name": "stdout",
     "output_type": "stream",
     "text": [
      "Before :  10 0xc00077e000\n",
      "in func :  11 0xc000242f50\n",
      "After :  11 0xc00077e000\n"
     ]
    },
    {
     "data": {
      "text/plain": [
       "25 <nil>"
      ]
     },
     "execution_count": 2,
     "metadata": {},
     "output_type": "execute_result"
    }
   ],
   "source": [
    "import (\n",
    "    \"fmt\"\n",
    ")\n",
    "\n",
    "count := 10\n",
    "\n",
    "func increment(i int) int {\n",
    "    \n",
    "    i++;\n",
    "    fmt.Println(\"in func : \", i, &i)\n",
    "    return i\n",
    "}\n",
    "\n",
    "fmt.Println(\"Before : \", count, &count)\n",
    "count = increment(count)\n",
    "\n",
    "fmt.Println(\"After : \", count, &count)\n"
   ]
  },
  {
   "cell_type": "markdown",
   "metadata": {},
   "source": [
    "Call by Reference\n",
    " --"
   ]
  },
  {
   "cell_type": "code",
   "execution_count": 3,
   "metadata": {},
   "outputs": [
    {
     "name": "stdout",
     "output_type": "stream",
     "text": [
      "Before :  10 0xc00077e000\n",
      "in func :  0xc00077e000 0xc00000e798\n",
      "After :  11 0xc00077e000\n"
     ]
    },
    {
     "data": {
      "text/plain": [
       "25 <nil>"
      ]
     },
     "execution_count": 3,
     "metadata": {},
     "output_type": "execute_result"
    }
   ],
   "source": [
    "import (\n",
    "    \"fmt\"\n",
    ")\n",
    "\n",
    "count := 10\n",
    "\n",
    "func increment(i *int) {\n",
    "    \n",
    "    *i++;\n",
    "    fmt.Println(\"in func : \", i, &i)\n",
    "\n",
    "}\n",
    "\n",
    "fmt.Println(\"Before : \", count, &count)\n",
    "increment(&count)\n",
    "\n",
    "fmt.Println(\"After : \", count, &count)"
   ]
  },
  {
   "cell_type": "code",
   "execution_count": null,
   "metadata": {},
   "outputs": [],
   "source": []
  }
 ],
 "metadata": {
  "kernelspec": {
   "display_name": "Go",
   "language": "go",
   "name": "gophernotes"
  },
  "language_info": {
   "codemirror_mode": "",
   "file_extension": ".go",
   "mimetype": "",
   "name": "go",
   "nbconvert_exporter": "",
   "pygments_lexer": "",
   "version": "go1.11.4"
  }
 },
 "nbformat": 4,
 "nbformat_minor": 2
}
