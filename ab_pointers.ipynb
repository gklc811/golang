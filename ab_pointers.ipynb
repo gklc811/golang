{
 "cells": [
  {
   "cell_type": "code",
   "execution_count": null,
   "metadata": {},
   "outputs": [],
   "source": [
    "import (\n",
    "    \"fmt\"\n",
    ")\n",
    "\n",
    "count := 10\n",
    "count1 := 100\n",
    "count = count + 20\n",
    "fmt.Println(\"Before : \", count, &count)\n",
    "fmt.Println(\"Before : \", count1, &count1)"
   ]
  },
  {
   "cell_type": "markdown",
   "metadata": {},
   "source": [
    "By default functions are call by value\n",
    "-----------------------------------------------------"
   ]
  },
  {
   "cell_type": "code",
   "execution_count": null,
   "metadata": {},
   "outputs": [],
   "source": [
    "import (\n",
    "    \"fmt\"\n",
    ")\n",
    "\n",
    "count := 10\n",
    "\n",
    "func increment(i int) int {\n",
    "    \n",
    "    i++;\n",
    "    fmt.Println(\"in func : \", i, &i)\n",
    "    return i\n",
    "}\n",
    "\n",
    "fmt.Println(\"Before : \", count, &count)\n",
    "count = increment(count)\n",
    "\n",
    "fmt.Println(\"After : \", count, &count)\n"
   ]
  },
  {
   "cell_type": "markdown",
   "metadata": {},
   "source": [
    "Call by Reference\n",
    " --"
   ]
  },
  {
   "cell_type": "code",
   "execution_count": 3,
   "metadata": {},
   "outputs": [
    {
     "name": "stdout",
     "output_type": "stream",
     "text": [
      "Before :  10 0xc0002ee000\n",
      "in func :  0xc0002ee000 0xc000220340\n",
      "After :  11 0xc0002ee000\n"
     ]
    },
    {
     "data": {
      "text/plain": [
       "25 <nil>"
      ]
     },
     "execution_count": 3,
     "metadata": {},
     "output_type": "execute_result"
    }
   ],
   "source": [
    "import (\n",
    "    \"fmt\"\n",
    ")\n",
    "\n",
    "count := 10\n",
    "\n",
    "func increment(i *int) {\n",
    "    \n",
    "    *i++;\n",
    "    fmt.Println(\"in func : \", i, &i)\n",
    "\n",
    "}\n",
    "\n",
    "fmt.Println(\"Before : \", count, &count)\n",
    "increment(&count)\n",
    "\n",
    "fmt.Println(\"After : \", count, &count)"
   ]
  },
  {
   "cell_type": "code",
   "execution_count": null,
   "metadata": {},
   "outputs": [],
   "source": []
  }
 ],
 "metadata": {
  "kernelspec": {
   "display_name": "Go",
   "language": "go",
   "name": "gophernotes"
  },
  "language_info": {
   "codemirror_mode": "",
   "file_extension": ".go",
   "mimetype": "",
   "name": "go",
   "nbconvert_exporter": "",
   "pygments_lexer": "",
   "version": "go1.11.4"
  }
 },
 "nbformat": 4,
 "nbformat_minor": 2
}
