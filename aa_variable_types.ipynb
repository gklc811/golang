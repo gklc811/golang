{
 "cells": [
  {
   "cell_type": "markdown",
   "metadata": {},
   "source": [
    "Variables\n",
    "========\n",
    "\n",
    "   "
   ]
  },
  {
   "cell_type": "code",
   "execution_count": 1,
   "metadata": {},
   "outputs": [
    {
     "name": "stdout",
     "output_type": "stream",
     "text": [
      "var a int \t int [0]\n",
      "var b int \t string []\n",
      "var c int \t float64 [0]\n",
      "var d int \t bool [false]\n",
      "var e int \t uint8 [0]\n",
      "var a int \t int [10]\n",
      "var b int \t string []\n",
      "var c int \t float64 [0]\n",
      "var d int \t bool [false]\n",
      "var e int \t uint8 [0]\n"
     ]
    },
    {
     "data": {
      "text/plain": [
       "22 <nil>"
      ]
     },
     "execution_count": 1,
     "metadata": {},
     "output_type": "execute_result"
    }
   ],
   "source": [
    "import (\n",
    "    \"fmt\"\n",
    ")\n",
    "\n",
    "// Variables set to ZERO value [default]\n",
    "var a int\n",
    "var b string\n",
    "var c float64\n",
    "var d bool\n",
    "var e byte\n",
    "\n",
    "fmt.Printf(\"var a int \\t %T [%v]\\n\",a, a)\n",
    "fmt.Printf(\"var b int \\t %T [%v]\\n\",b, b)\n",
    "fmt.Printf(\"var c int \\t %T [%v]\\n\",c, c)\n",
    "fmt.Printf(\"var d int \\t %T [%v]\\n\",d, d)\n",
    "fmt.Printf(\"var e int \\t %T [%v]\\n\",e, e)\n",
    "\n",
    "a = 10\n",
    "\n",
    "fmt.Printf(\"var a int \\t %T [%v]\\n\",a, a)\n",
    "fmt.Printf(\"var b int \\t %T [%v]\\n\",b, b)\n",
    "fmt.Printf(\"var c int \\t %T [%v]\\n\",c, c)\n",
    "fmt.Printf(\"var d int \\t %T [%v]\\n\",d, d)\n",
    "fmt.Printf(\"var e int \\t %T [%v]\\n\",e, e)\n"
   ]
  },
  {
   "cell_type": "code",
   "execution_count": 2,
   "metadata": {},
   "outputs": [
    {
     "name": "stdout",
     "output_type": "stream",
     "text": [
      "var a int \t int [5]\n",
      "var b int \t string [hai]\n",
      "var c int \t float64 [3.141]\n",
      "var d int \t bool [true]\n",
      "var e int \t int [1]\n"
     ]
    },
    {
     "data": {
      "text/plain": [
       "20 <nil>"
      ]
     },
     "execution_count": 2,
     "metadata": {},
     "output_type": "execute_result"
    }
   ],
   "source": [
    "import (\n",
    "    \"fmt\"\n",
    ")\n",
    "\n",
    "// Declare and initialize \n",
    "\n",
    "a := 5\n",
    "b := \"hai\"\n",
    "c := 3.141\n",
    "d := true\n",
    "e := 1\n",
    "\n",
    "\n",
    "fmt.Printf(\"var a int \\t %T [%v]\\n\",a, a)\n",
    "fmt.Printf(\"var b int \\t %T [%v]\\n\",b, b)\n",
    "fmt.Printf(\"var c int \\t %T [%v]\\n\",c, c)\n",
    "fmt.Printf(\"var d int \\t %T [%v]\\n\",d, d)\n",
    "fmt.Printf(\"var e int \\t %T [%v]\\n\",e, e)\n"
   ]
  },
  {
   "cell_type": "code",
   "execution_count": 3,
   "metadata": {},
   "outputs": [
    {
     "name": "stdout",
     "output_type": "stream",
     "text": [
      " struct { 𒀸flag bool; 𒀸counter int16; 𒀸pi float64 } \t {𒀸flag:false 𒀸counter:0 𒀸pi:0}\n",
      " struct { 𒀸flag bool; 𒀸counter int16; 𒀸pi float64 } \t {𒀸flag:true 𒀸counter:0 𒀸pi:3.14}\n"
     ]
    },
    {
     "data": {
      "text/plain": [
       "105 <nil>"
      ]
     },
     "execution_count": 3,
     "metadata": {},
     "output_type": "execute_result"
    }
   ],
   "source": [
    "import (\n",
    "    \"fmt\"\n",
    ")\n",
    "\n",
    "// Named Struct Type\n",
    "type samplestruct struct {\n",
    "    flag bool\n",
    "    counter int16\n",
    "    pi float64\n",
    "}\n",
    "\n",
    "var e1 samplestruct\n",
    "\n",
    "e2 := samplestruct {\n",
    "    flag : true,\n",
    "    pi: 3.14,\n",
    "}\n",
    "\n",
    "fmt.Printf(\" %T \\t %+v\\n\",e1, e1)\n",
    "fmt.Printf(\" %T \\t %+v\\n\",e2, e2)"
   ]
  },
  {
   "cell_type": "code",
   "execution_count": 4,
   "metadata": {},
   "outputs": [
    {
     "name": "stdout",
     "output_type": "stream",
     "text": [
      " struct { 𒀸flag bool; 𒀸counter int16; 𒀸pi float64 } \t {𒀸flag:true 𒀸counter:0 𒀸pi:3.14}\n"
     ]
    },
    {
     "data": {
      "text/plain": [
       "105 <nil>"
      ]
     },
     "execution_count": 4,
     "metadata": {},
     "output_type": "execute_result"
    }
   ],
   "source": [
    "import (\n",
    "    \"fmt\"\n",
    ")\n",
    "// Anonymous Struct (used to send any jso response that is one time activity)\n",
    "e3 := struct {\n",
    "    flag bool\n",
    "    counter int16\n",
    "    pi float64\n",
    "}{\n",
    "    flag : true,\n",
    "    pi: 3.14,\n",
    "}\n",
    "\n",
    "fmt.Printf(\" %T \\t %+v\\n\",e3, e3)"
   ]
  },
  {
   "cell_type": "code",
   "execution_count": null,
   "metadata": {},
   "outputs": [],
   "source": []
  }
 ],
 "metadata": {
  "kernelspec": {
   "display_name": "Go",
   "language": "go",
   "name": "gophernotes"
  },
  "language_info": {
   "codemirror_mode": "",
   "file_extension": ".go",
   "mimetype": "",
   "name": "go",
   "nbconvert_exporter": "",
   "pygments_lexer": "",
   "version": "go1.11.4"
  }
 },
 "nbformat": 4,
 "nbformat_minor": 2
}
