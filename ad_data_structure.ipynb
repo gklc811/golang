{
 "cells": [
  {
   "cell_type": "markdown",
   "metadata": {},
   "source": [
    "Arrays\n",
    "----"
   ]
  },
  {
   "cell_type": "code",
   "execution_count": 1,
   "metadata": {},
   "outputs": [
    {
     "name": "stdout",
     "output_type": "stream",
     "text": [
      "Called 0 appaaaaa appaaaaa 0xc0005845a0 0xc00021e920\n",
      "Called 1 app app 0xc0005845b0 0xc00021e920\n",
      "Called 2 app app 0xc0005845c0 0xc00021e920\n",
      "Called 3 app app 0xc0005845d0 0xc00021e920\n",
      "Called 4 appl appl 0xc0005845e0 0xc00021e920\n",
      "[appaaaaa app app app appl]\n"
     ]
    }
   ],
   "source": [
    "import (\n",
    "\"fmt\"\n",
    ")\n",
    "func main(){\n",
    "    var sr [5]string\n",
    "    sr[0]=\"appaaaaa\"\n",
    "    sr[1]=\"app\"\n",
    "    sr[2]=\"app\"\n",
    "    sr[3]=\"app\"\n",
    "    sr[4]=\"appl\"\n",
    "    for i, el := range sr {\n",
    "        fmt.Println(\"Called\", i,  sr[i], el ,&sr[i], &el)\n",
    "    }\n",
    "    fmt.Println(sr)\n",
    "}\n",
    "main()"
   ]
  },
  {
   "cell_type": "code",
   "execution_count": 2,
   "metadata": {},
   "outputs": [
    {
     "name": "stdout",
     "output_type": "stream",
     "text": [
      "Called 0 10 10 0xc00003c5a0 0xc000223518\n",
      "Called 1 20 20 0xc00003c5a8 0xc000223518\n",
      "Called 2 30 30 0xc00003c5b0 0xc000223518\n",
      "Called 3 40 40 0xc00003c5b8 0xc000223518\n",
      "Called 4 50 50 0xc00003c5c0 0xc000223518\n"
     ]
    }
   ],
   "source": [
    "import (\n",
    "\"fmt\"\n",
    ")\n",
    "func main(){\n",
    "    in := [5]int{10,20,30,40,50}\n",
    "    for i, el := range in {\n",
    "        fmt.Println(\"Called\", i,  in[i], el ,&in[i], &el)\n",
    "    }\n",
    "}\n",
    "main()"
   ]
  },
  {
   "cell_type": "markdown",
   "metadata": {},
   "source": [
    "Slices\n",
    "-----\n"
   ]
  },
  {
   "cell_type": "code",
   "execution_count": 3,
   "metadata": {},
   "outputs": [
    {
     "name": "stdout",
     "output_type": "stream",
     "text": [
      "Called 0 appaaaaa appaaaaa 0xc000782000 0xc0002143a0\n",
      "Called 1 app app 0xc000782010 0xc0002143a0\n",
      "Called 2 app app 0xc000782020 0xc0002143a0\n",
      "Called 3 app app 0xc000782030 0xc0002143a0\n",
      "Called 4 appl appl 0xc000782040 0xc0002143a0\n",
      "[appaaaaa app app app appl]\n",
      " Length [5] Capacity [1990000000]"
     ]
    }
   ],
   "source": [
    " import (\n",
    "\"fmt\"\n",
    ")\n",
    "\n",
    "func inspectSlice(slice []string) {\n",
    "    fmt.Printf(\" Length [%d] Capacity [%d]\", len(slice), cap(slice))\n",
    "}\n",
    "\n",
    "func main(){\n",
    "    sr := make([]string, 5, 1990000000)\n",
    "    sr[0]=\"appaaaaa\"\n",
    "    sr[1]=\"app\"\n",
    "    sr[2]=\"app\"\n",
    "    sr[3]=\"app\"\n",
    "    sr[4]=\"appl\"\n",
    "    for i, el := range sr {\n",
    "        fmt.Println(\"Called\", i,  sr[i], el ,&sr[i], &el)\n",
    "    }\n",
    "    fmt.Println(sr)\n",
    "    inspectSlice(sr)\n",
    "}\n",
    "\n",
    "main()"
   ]
  },
  {
   "cell_type": "code",
   "execution_count": 4,
   "metadata": {},
   "outputs": [
    {
     "name": "stdout",
     "output_type": "stream",
     "text": [
      "Called 0 asd asd 0xc00063cea0 0xc000356800\n",
      "Called 1 asd asd 0xc00063ceb0 0xc000356800\n",
      "Called 2 asd asd 0xc00063cec0 0xc000356800\n",
      "Called 3 asd asd 0xc00063ced0 0xc000356800\n",
      "Called 4 asd asd 0xc00063cee0 0xc000356800\n",
      "Called 5 asd asd 0xc00063cef0 0xc000356800\n",
      "Called 6 asd asd 0xc00063cf00 0xc000356800\n",
      "Called 7 asd asd 0xc00063cf10 0xc000356800\n",
      "Called 8 asd asd 0xc00063cf20 0xc000356800\n",
      "Called 9 asd asd 0xc00063cf30 0xc000356800\n",
      "Called 10 asd asd 0xc00063cf40 0xc000356800\n",
      "Called 11 asd asd 0xc00063cf50 0xc000356800\n",
      "Called 12 asd asd 0xc00063cf60 0xc000356800\n",
      "Called 13 asd asd 0xc00063cf70 0xc000356800\n",
      "Called 14 asd asd 0xc00063cf80 0xc000356800\n",
      "Called 15 asd asd 0xc00063cf90 0xc000356800\n",
      "Called 16 asd asd 0xc00063cfa0 0xc000356800\n",
      "After Append\n",
      "After Append\n",
      "Called 0 asd asd 0xc0000ac6c0 0xc000356c70\n",
      "Called 1 asd asd 0xc0000ac6d0 0xc000356c70\n",
      "Called 2 asd asd 0xc0000ac6e0 0xc000356c70\n",
      "Called 3 asd asd 0xc0000ac6f0 0xc000356c70\n",
      "Called 4 asd asd 0xc0000ac700 0xc000356c70\n",
      "Called 5 asd asd 0xc0000ac710 0xc000356c70\n",
      "Called 6 asd asd 0xc0000ac720 0xc000356c70\n",
      "Called 7 asd asd 0xc0000ac730 0xc000356c70\n",
      "Called 8 asd asd 0xc0000ac740 0xc000356c70\n",
      "Called 9 asd asd 0xc0000ac750 0xc000356c70\n",
      "Called 10 asd asd 0xc0000ac760 0xc000356c70\n",
      "Called 11 asd asd 0xc0000ac770 0xc000356c70\n",
      "Called 12 asd asd 0xc0000ac780 0xc000356c70\n",
      "Called 13 asd asd 0xc0000ac790 0xc000356c70\n",
      "Called 14 asd asd 0xc0000ac7a0 0xc000356c70\n",
      "Called 15 asd asd 0xc0000ac7b0 0xc000356c70\n",
      "Called 16 asd asd 0xc0000ac7c0 0xc000356c70\n",
      "Called 17 ape ape 0xc0000ac7d0 0xc000356c70\n",
      "[asd asd asd asd asd asd asd asd asd asd asd asd asd asd asd asd asd ape]\n",
      " Length [18] Capacity [34]"
     ]
    }
   ],
   "source": [
    " import (\n",
    "\"fmt\"\n",
    ")\n",
    "\n",
    "func inspectSlice(slice []string) {\n",
    "    fmt.Printf(\" Length [%d] Capacity [%d]\", len(slice), cap(slice))\n",
    "}\n",
    "\n",
    "func main(){\n",
    "    sr := make([]string, 17, 17)\n",
    "    for i, el := range sr{\n",
    "        sr[i] = \"asd\"\n",
    "    }\n",
    "    for i, el := range sr {\n",
    "        fmt.Println(\"Called\", i,  sr[i], el ,&sr[i], &el)\n",
    "    }\n",
    "    sr = append(sr,\"ape\")\n",
    "    fmt.Println(\"After Append\")\n",
    "    fmt.Println(\"After Append\")\n",
    "    for i, el := range sr {\n",
    "        fmt.Println(\"Called\", i,  sr[i], el ,&sr[i], &el)\n",
    "    }\n",
    "    \n",
    "    fmt.Println(sr)\n",
    "    inspectSlice(sr)\n",
    "}\n",
    "\n",
    "main()"
   ]
  },
  {
   "cell_type": "code",
   "execution_count": 5,
   "metadata": {},
   "outputs": [
    {
     "name": "stdout",
     "output_type": "stream",
     "text": [
      "After Append\n",
      "After Append\n",
      " Length [102401] Capacity [128000]"
     ]
    }
   ],
   "source": [
    " import (\n",
    "\"fmt\"\n",
    ")\n",
    "\n",
    "func inspectSlice(slice []string) {\n",
    "    fmt.Printf(\" Length [%d] Capacity [%d]\", len(slice), cap(slice))\n",
    "}\n",
    "\n",
    "func main(){\n",
    "    sr := make([]string, 102400, 102400)\n",
    "    for i, el := range sr{\n",
    "        sr[i] = \"asd\"\n",
    "    }\n",
    "//     for i, el := range sr {\n",
    "//         fmt.Println(\"Called\", i,  sr[i], el ,&sr[i], &el)\n",
    "//     }\n",
    "    sr = append(sr,\"ape\")\n",
    "    fmt.Println(\"After Append\")\n",
    "    fmt.Println(\"After Append\")\n",
    "//     for i, el := range sr {\n",
    "//         fmt.Println(\"Called\", i,  sr[i], el ,&sr[i], &el)\n",
    "//     }\n",
    "    \n",
    "    inspectSlice(sr)\n",
    "}\n",
    "\n",
    "main()"
   ]
  },
  {
   "cell_type": "code",
   "execution_count": 6,
   "metadata": {},
   "outputs": [
    {
     "name": "stdout",
     "output_type": "stream",
     "text": [
      "Called 0 appaaaaa appaaaaa 0xc0000b7720 0xc0004c2510\n",
      "Called 1 bbbb bbbb 0xc0000b7730 0xc0004c2510\n",
      "Called 2 cccc cccc 0xc0000b7740 0xc0004c2510\n",
      "Called 3 ddd ddd 0xc0000b7750 0xc0004c2510\n",
      "Called 4 eee eee 0xc0000b7760 0xc0004c2510\n",
      "Called 0 cccc cccc 0xc0000b7740 0xc0004c2660\n",
      "Called 1 ddd ddd 0xc0000b7750 0xc0004c2660\n",
      "[appaaaaa bbbb gokul ddd eee]\n",
      "[gokul ddd]\n",
      " Length [5] Capacity [10] Length [2] Capacity [8]"
     ]
    }
   ],
   "source": [
    " import (\n",
    "\"fmt\"\n",
    ")\n",
    "\n",
    "func inspectSlice(slice []string) {\n",
    "    fmt.Printf(\" Length [%d] Capacity [%d]\", len(slice), cap(slice))\n",
    "}\n",
    "\n",
    "func main(){\n",
    "    sr := make([]string, 5, 10)\n",
    "    sr[0]=\"appaaaaa\"\n",
    "    sr[1]=\"bbbb\"\n",
    "    sr[2]=\"cccc\"\n",
    "    sr[3]=\"ddd\"\n",
    "    sr[4]=\"eee\"\n",
    "    for i, el := range sr {\n",
    "        fmt.Println(\"Called\", i,  sr[i], el ,&sr[i], &el)\n",
    "    }\n",
    "    sl := sr[2:4]\n",
    "    for i, el := range sl {\n",
    "        fmt.Println(\"Called\", i,  sl[i], el ,&sl[i], &el)\n",
    "    }\n",
    "    sl[0] = \"gokul\"\n",
    "    \n",
    "    \n",
    "    fmt.Println(sr)\n",
    "    fmt.Println(sl)\n",
    "    inspectSlice(sr)\n",
    "    inspectSlice(sl)\n",
    "}\n",
    "\n",
    "main()"
   ]
  },
  {
   "cell_type": "code",
   "execution_count": 7,
   "metadata": {},
   "outputs": [
    {
     "name": "stdout",
     "output_type": "stream",
     "text": [
      "Called 0 appaaaaa appaaaaa 0xc0000b7c20 0xc0004c3b00\n",
      "Called 1 bbbb bbbb 0xc0000b7c30 0xc0004c3b00\n",
      "Called 2 cccc cccc 0xc0000b7c40 0xc0004c3b00\n",
      "Called 3 ddd ddd 0xc0000b7c50 0xc0004c3b00\n",
      "Called 4 eee eee 0xc0000b7c60 0xc0004c3b00\n",
      "Called 0 cccc cccc 0xc0000b7c40 0xc0004c3c50\n",
      "Called 1 ddd ddd 0xc0000b7c50 0xc0004c3c50\n",
      "[appaaaaa bbbb cccc ddd gokul]\n",
      "[cccc ddd gokul]\n",
      " Length [5] Capacity [10] Length [3] Capacity [8]"
     ]
    }
   ],
   "source": [
    " import (\n",
    "\"fmt\"\n",
    ")\n",
    "\n",
    "func inspectSlice(slice []string) {\n",
    "    fmt.Printf(\" Length [%d] Capacity [%d]\", len(slice), cap(slice))\n",
    "}\n",
    "\n",
    "func main(){\n",
    "    sr := make([]string, 5, 10)\n",
    "    sr[0]=\"appaaaaa\"\n",
    "    sr[1]=\"bbbb\"\n",
    "    sr[2]=\"cccc\"\n",
    "    sr[3]=\"ddd\" \n",
    "    sr[4]=\"eee\"\n",
    "    for i, el := range sr {\n",
    "        fmt.Println(\"Called\", i,  sr[i], el ,&sr[i], &el)\n",
    "    }\n",
    "    sl := sr[2:4]\n",
    "    for i, el := range sl {\n",
    "        fmt.Println(\"Called\", i,  sl[i], el ,&sl[i], &el)\n",
    "    }\n",
    "     sl=append(sl,\"gokul\")\n",
    "    \n",
    "    \n",
    "    \n",
    "    fmt.Println(sr)\n",
    "    fmt.Println(sl)\n",
    "    inspectSlice(sr)\n",
    "    inspectSlice(sl)\n",
    "}\n",
    "\n",
    "main()"
   ]
  },
  {
   "cell_type": "code",
   "execution_count": 8,
   "metadata": {},
   "outputs": [
    {
     "name": "stdout",
     "output_type": "stream",
     "text": [
      "Called 0 appaaaaa appaaaaa 0xc76a834a00 0xc76a823340\n",
      "Called 1 bbbb bbbb 0xc76a834a10 0xc76a823340\n",
      "Called 2 cccc cccc 0xc76a834a20 0xc76a823340\n",
      "Called 3 ddd ddd 0xc76a834a30 0xc76a823340\n",
      "Called 4 eee eee 0xc76a834a40 0xc76a823340\n",
      "Called 0 cccc cccc 0xc76a834a20 0xc76a823490\n",
      "Called 1 ddd ddd 0xc76a834a30 0xc76a823490\n",
      "Called 2 eee eee 0xc76a834a40 0xc76a823490\n",
      "Called 0 cccc cccc 0xc76a8268a0 0xc76a823560\n",
      "Called 1 ddd ddd 0xc76a8268b0 0xc76a823560\n",
      "Called 2 eee eee 0xc76a8268c0 0xc76a823560\n",
      "Called 3 gokul gokul 0xc76a8268d0 0xc76a823560\n",
      "[appaaaaa bbbb cccc ddd eee]\n",
      "[cccc ddd eee gokul]\n",
      " Length [5] Capacity [5] Length [4] Capacity [6]"
     ]
    }
   ],
   "source": [
    " import (\n",
    "\"fmt\"\n",
    ")\n",
    "\n",
    "func inspectSlice(slice []string) {\n",
    "    fmt.Printf(\" Length [%d] Capacity [%d]\", len(slice), cap(slice))\n",
    "}\n",
    "\n",
    "func main(){\n",
    "    sr := make([]string, 5, 5)\n",
    "    sr[0]=\"appaaaaa\"\n",
    "    sr[1]=\"bbbb\"\n",
    "    sr[2]=\"cccc\"\n",
    "    sr[3]=\"ddd\" \n",
    "    sr[4]=\"eee\"\n",
    "    for i, el := range sr {\n",
    "        fmt.Println(\"Called\", i,  sr[i], el ,&sr[i], &el)\n",
    "    }\n",
    "    sl := sr[2:5]\n",
    "    for i, el := range sl {\n",
    "        fmt.Println(\"Called\", i,  sl[i], el ,&sl[i], &el)\n",
    "    }\n",
    "     sl=append(sl,\"gokul\")\n",
    "      for i, el := range sl {\n",
    "        fmt.Println(\"Called\", i,  sl[i], el ,&sl[i], &el)\n",
    "    }\n",
    "    \n",
    "    \n",
    "    \n",
    "    fmt.Println(sr)\n",
    "    fmt.Println(sl)\n",
    "    inspectSlice(sr)\n",
    "    inspectSlice(sl)\n",
    "}\n",
    "\n",
    "main()"
   ]
  },
  {
   "cell_type": "code",
   "execution_count": 9,
   "metadata": {},
   "outputs": [
    {
     "name": "stdout",
     "output_type": "stream",
     "text": [
      "Called 0 appaaaaa appaaaaa 0xc76a84a1e0 0xc76a850c50\n",
      "Called 1 bbbb bbbb 0xc76a84a1f0 0xc76a850c50\n",
      "Called 2 cccc cccc 0xc76a84a200 0xc76a850c50\n",
      "Called 3 ddd ddd 0xc76a84a210 0xc76a850c50\n",
      "Called 4 eee eee 0xc76a84a220 0xc76a850c50\n",
      "Called 0 cccc cccc 0xc76a84a200 0xc76a850da0\n",
      "Called 1 ddd ddd 0xc76a84a210 0xc76a850da0\n",
      "Called 0 gokul gokul 0xc76a84a200 0xc76a850e30\n",
      "Called 1 ddd ddd 0xc76a84a210 0xc76a850e30\n",
      "[appaaaaa bbbb gokul ddd eee]\n",
      "[gokul ddd]\n",
      " Length [5] Capacity [10] Length [2] Capacity [2]"
     ]
    }
   ],
   "source": [
    " import (\n",
    "\"fmt\"\n",
    ")\n",
    "\n",
    "func inspectSlice(slice []string) {\n",
    "    fmt.Printf(\" Length [%d] Capacity [%d]\", len(slice), cap(slice))\n",
    "}\n",
    "\n",
    "func main(){\n",
    "    sr := make([]string, 5, 10)\n",
    "    sr[0]=\"appaaaaa\"\n",
    "    sr[1]=\"bbbb\"\n",
    "    sr[2]=\"cccc\"\n",
    "    sr[3]=\"ddd\" \n",
    "    sr[4]=\"eee\"\n",
    "    for i, el := range sr {\n",
    "        fmt.Println(\"Called\", i,  sr[i], el ,&sr[i], &el)\n",
    "    }\n",
    "    sl := sr[2:4:4] //Copy on write only for append\n",
    "    for i, el := range sl {\n",
    "        fmt.Println(\"Called\", i,  sl[i], el ,&sl[i], &el)\n",
    "    }\n",
    "      sl[0] = \"gokul\"\n",
    "      for i, el := range sl {\n",
    "        fmt.Println(\"Called\", i,  sl[i], el ,&sl[i], &el)\n",
    "    }\n",
    "    \n",
    "    \n",
    "    \n",
    "    fmt.Println(sr)\n",
    "    fmt.Println(sl)\n",
    "    inspectSlice(sr)\n",
    "    inspectSlice(sl)\n",
    "}\n",
    "\n",
    "main()"
   ]
  },
  {
   "cell_type": "code",
   "execution_count": 10,
   "metadata": {},
   "outputs": [
    {
     "name": "stdout",
     "output_type": "stream",
     "text": [
      "Called 0 appaaaaa appaaaaa 0xc76a84a500 0xc76a87a4a0\n",
      "Called 1 bbbb bbbb 0xc76a84a510 0xc76a87a4a0\n",
      "Called 2 cccc cccc 0xc76a84a520 0xc76a87a4a0\n",
      "Called 3 ddd ddd 0xc76a84a530 0xc76a87a4a0\n",
      "Called 4 eee eee 0xc76a84a540 0xc76a87a4a0\n",
      "Called 0 cccc cccc 0xc76a84a520 0xc76a87a5f0\n",
      "Called 1 ddd ddd 0xc76a84a530 0xc76a87a5f0\n",
      "Called 0 cccc cccc 0xc76a880380 0xc76a87a680\n",
      "Called 1 ddd ddd 0xc76a880390 0xc76a87a680\n",
      "Called 2 gokul gokul 0xc76a8803a0 0xc76a87a680\n",
      "[appaaaaa bbbb cccc ddd eee]\n",
      "[cccc ddd gokul]\n",
      " Length [5] Capacity [10] Length [3] Capacity [4]"
     ]
    }
   ],
   "source": [
    " import (\n",
    "\"fmt\"\n",
    ")\n",
    "\n",
    "func inspectSlice(slice []string) {\n",
    "    fmt.Printf(\" Length [%d] Capacity [%d]\", len(slice), cap(slice))\n",
    "}\n",
    "\n",
    "func main(){\n",
    "    sr := make([]string, 5, 10)\n",
    "    sr[0]=\"appaaaaa\"\n",
    "    sr[1]=\"bbbb\"\n",
    "    sr[2]=\"cccc\"\n",
    "    sr[3]=\"ddd\" \n",
    "    sr[4]=\"eee\"\n",
    "    for i, el := range sr {\n",
    "        fmt.Println(\"Called\", i,  sr[i], el ,&sr[i], &el)\n",
    "    }\n",
    "    sl := sr[2:4:4] //Copy on write\n",
    "    for i, el := range sl {\n",
    "        fmt.Println(\"Called\", i,  sl[i], el ,&sl[i], &el)\n",
    "    }\n",
    "        sl=append(sl,\"gokul\")\n",
    "      for i, el := range sl {\n",
    "        fmt.Println(\"Called\", i,  sl[i], el ,&sl[i], &el)\n",
    "    }\n",
    "    \n",
    "    \n",
    "    \n",
    "    fmt.Println(sr)\n",
    "    fmt.Println(sl)\n",
    "    inspectSlice(sr)\n",
    "    inspectSlice(sl)\n",
    "}\n",
    "\n",
    "main()"
   ]
  },
  {
   "cell_type": "code",
   "execution_count": 11,
   "metadata": {},
   "outputs": [
    {
     "name": "stdout",
     "output_type": "stream",
     "text": [
      "Called 0 appaaaaa appaaaaa 0xc76a8df310 0xc0001f5640\n",
      "Called 1 bbbb bbbb 0xc76a8df320 0xc0001f5640\n",
      "Called 2 cccc cccc 0xc76a8df330 0xc0001f5640\n",
      "Called 3 ddd ddd 0xc76a8df340 0xc0001f5640\n",
      "Called 4 eee eee 0xc76a8df350 0xc0001f5640\n",
      "Called 0 cccc cccc 0xc76a8df330 0xc0001f5790\n",
      "Called 1 ddd ddd 0xc76a8df340 0xc0001f5790\n",
      "[appaaaaa bbbb cccc newgokul eee gokul]\n",
      "[cccc ddd]\n",
      " Length [6] Capacity [10] Length [2] Capacity [2]"
     ]
    }
   ],
   "source": [
    "import (\n",
    "\"fmt\"\n",
    ")\n",
    "\n",
    "func inspectSlice(slice []string) {\n",
    "    fmt.Printf(\" Length [%d] Capacity [%d]\", len(slice), cap(slice))\n",
    "}\n",
    "\n",
    "func main(){\n",
    "    sr := make([]string, 5, 5)\n",
    "    sr[0]=\"appaaaaa\"\n",
    "    sr[1]=\"bbbb\"\n",
    "    sr[2]=\"cccc\"\n",
    "    sr[3]=\"ddd\" \n",
    "    sr[4]=\"eee\"\n",
    "    for i, el := range sr {\n",
    "        fmt.Println(\"Called\", i,  sr[i], el ,&sr[i], &el)\n",
    "    }\n",
    "    sl := sr[2:4:4] //Copy on write\n",
    "    for i, el := range sl {\n",
    "        fmt.Println(\"Called\", i,  sl[i], el ,&sl[i], &el)\n",
    "    }\n",
    "    sr = append(sr,\"gokul\")\n",
    "    sr[3] = \"newgokul\"\n",
    "    \n",
    "    \n",
    "    fmt.Println(sr)\n",
    "    fmt.Println(sl)\n",
    "    inspectSlice(sr)\n",
    "    inspectSlice(sl)\n",
    "}\n",
    "\n",
    "main()"
   ]
  },
  {
   "cell_type": "code",
   "execution_count": 12,
   "metadata": {},
   "outputs": [
    {
     "name": "stdout",
     "output_type": "stream",
     "text": [
      "Called 0 appaaaaa appaaaaa 0xc76a8c05a0 0xc76a8fcf90\n",
      "Called 1 bbbb bbbb 0xc76a8c05b0 0xc76a8fcf90\n",
      "Called 2 cccc cccc 0xc76a8c05c0 0xc76a8fcf90\n",
      "Called 3 ddd ddd 0xc76a8c05d0 0xc76a8fcf90\n",
      "Called 4 eee eee 0xc76a8c05e0 0xc76a8fcf90\n",
      "Called 0 cccc cccc 0xc76a901d60 0xc76a8fd0e0\n",
      "Called 1 ddd ddd 0xc76a901d70 0xc76a8fd0e0\n",
      "Called 0 gokul gokul 0xc76a901d60 0xc76a8fd170\n",
      "Called 1 ddd ddd 0xc76a901d70 0xc76a8fd170\n",
      "[appaaaaa bbbb cccc ddd eee]\n",
      "[gokul ddd]\n",
      " Length [5] Capacity [10] Length [2] Capacity [2]"
     ]
    }
   ],
   "source": [
    " import (\n",
    "\"fmt\"\n",
    ")\n",
    "\n",
    "func inspectSlice(slice []string) {\n",
    "    fmt.Printf(\" Length [%d] Capacity [%d]\", len(slice), cap(slice))\n",
    "}\n",
    "\n",
    "func main(){\n",
    "    sr := make([]string, 5, 10)\n",
    "    sr[0]=\"appaaaaa\"\n",
    "    sr[1]=\"bbbb\"\n",
    "    sr[2]=\"cccc\"\n",
    "    sr[3]=\"ddd\" \n",
    "    sr[4]=\"eee\"\n",
    "    for i, el := range sr {\n",
    "        fmt.Println(\"Called\", i,  sr[i], el ,&sr[i], &el)\n",
    "    }\n",
    "//     sl := sr[2:4:4] //Copy on write\n",
    "    sl := make([]string, 2, 2)\n",
    "    copy(sl,sr[2:4])\n",
    "    for i, el := range sl {\n",
    "        fmt.Println(\"Called\", i,  sl[i], el ,&sl[i], &el)\n",
    "    }\n",
    "        sl[0] = \"gokul\"\n",
    "      for i, el := range sl {\n",
    "        fmt.Println(\"Called\", i,  sl[i], el ,&sl[i], &el)\n",
    "    }\n",
    "    \n",
    "    \n",
    "    \n",
    "    fmt.Println(sr)\n",
    "    fmt.Println(sl)\n",
    "    inspectSlice(sr)\n",
    "    inspectSlice(sl)\n",
    "}\n",
    "\n",
    "main()"
   ]
  },
  {
   "cell_type": "markdown",
   "metadata": {},
   "source": [
    "Maps\n",
    "=="
   ]
  },
  {
   "cell_type": "code",
   "execution_count": 13,
   "metadata": {},
   "outputs": [
    {
     "name": "stdout",
     "output_type": "stream",
     "text": [
      "{ 0} false\n",
      "b\n",
      "sample\n",
      "a\n",
      "gokul\n"
     ]
    }
   ],
   "source": [
    " import (\n",
    "\"fmt\"\n",
    ")\n",
    "\n",
    "type user struct {\n",
    "    name string\n",
    "    id int\n",
    "}\n",
    "\n",
    "func main(){\n",
    "    u := make(map[string]user)\n",
    "    u[\"a\"] = user{\"gokul\", 1}\n",
    "    u[\"b\"] = user{\"sample\", 1}\n",
    "    fmt.Println(u[\"x\"])\n",
    "    for key,value := range u{\n",
    "        fmt.Println(key)\n",
    "        fmt.Println(value.name)\n",
    "        \n",
    "    }\n",
    "   \n",
    "}\n",
    "\n",
    "main()"
   ]
  },
  {
   "cell_type": "code",
   "execution_count": 14,
   "metadata": {},
   "outputs": [
    {
     "name": "stdout",
     "output_type": "stream",
     "text": [
      "map[a:{gokul 1} b:{sample 1}]\n",
      "a\n",
      "gokul\n",
      "b\n",
      "sample\n",
      "map[b:{sample 1}]\n"
     ]
    }
   ],
   "source": [
    "import (\n",
    "\"fmt\"\n",
    ")\n",
    "\n",
    "type user struct {\n",
    "    name string\n",
    "    id int\n",
    "}\n",
    "\n",
    "func main(){\n",
    "    u := make(map[string]user)\n",
    "    u[\"a\"] = user{\"gokul\", 1}\n",
    "    u[\"b\"] = user{\"sample\", 1}\n",
    "    fmt.Println(u)\n",
    "    for key,value := range u{\n",
    "        fmt.Println(key)\n",
    "        fmt.Println(value.name)\n",
    "    }\n",
    "    delete(u,\"a\")\n",
    "   fmt.Println(u)\n",
    "}\n",
    "\n",
    "main()"
   ]
  },
  {
   "cell_type": "code",
   "execution_count": null,
   "metadata": {},
   "outputs": [],
   "source": []
  }
 ],
 "metadata": {
  "kernelspec": {
   "display_name": "Go",
   "language": "go",
   "name": "gophernotes"
  },
  "language_info": {
   "codemirror_mode": "",
   "file_extension": ".go",
   "mimetype": "",
   "name": "go",
   "nbconvert_exporter": "",
   "pygments_lexer": "",
   "version": "go1.11.4"
  }
 },
 "nbformat": 4,
 "nbformat_minor": 2
}
